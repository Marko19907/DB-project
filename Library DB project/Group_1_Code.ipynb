{
 "cells": [
  {
   "cell_type": "code",
   "execution_count": 1,
   "metadata": {
    "scrolled": true
   },
   "outputs": [
    {
     "data": {
      "text/plain": [
       "'Connected: @empty_db.db'"
      ]
     },
     "execution_count": 1,
     "metadata": {},
     "output_type": "execute_result"
    }
   ],
   "source": [
    "%load_ext sql\n",
    "%sql sqlite:///empty_db.db"
   ]
  },
  {
   "cell_type": "markdown",
   "metadata": {},
   "source": [
    "***"
   ]
  },
  {
   "cell_type": "markdown",
   "metadata": {},
   "source": [
    "### Security\n",
    "\n",
    "Since we are using SQLite we are not able to include the security features. We will just include the pseudo code for it.\n",
    "\n",
    "\n",
    "<b>Role:</b> admin\n",
    "\n",
    "<b>Description:</b> Has access to read/write to every single table.\n",
    "\n",
    "***\n",
    "\n",
    "<b>Role:</b> public\n",
    "\n",
    "<b>Description:</b> Has read access certain tables, these include: Books, Authors, BooksAuthors, BranchesBooks, \n"
   ]
  },
  {
   "cell_type": "markdown",
   "metadata": {},
   "source": [
    "***"
   ]
  },
  {
   "cell_type": "markdown",
   "metadata": {},
   "source": [
    "#### Table: Authors\n",
    "\n",
    "#### Description: This table stores names of all book authors."
   ]
  },
  {
   "cell_type": "code",
   "execution_count": 2,
   "metadata": {},
   "outputs": [
    {
     "name": "stdout",
     "output_type": "stream",
     "text": [
      " * sqlite:///empty_db.db\n",
      "(sqlite3.OperationalError) table Authors already exists\n",
      "[SQL: CREATE TABLE Authors\n",
      "(\n",
      "    author_id INT PRIMARY KEY,\n",
      "    name      VARCHAR(255) NOT NULL\n",
      ");]\n",
      "(Background on this error at: https://sqlalche.me/e/14/e3q8)\n"
     ]
    }
   ],
   "source": [
    "%%sql\n",
    "CREATE TABLE Authors\n",
    "(\n",
    "    author_id INT PRIMARY KEY,\n",
    "    name      VARCHAR(255) NOT NULL\n",
    ");"
   ]
  },
  {
   "cell_type": "code",
   "execution_count": 3,
   "metadata": {
    "scrolled": true
   },
   "outputs": [
    {
     "name": "stdout",
     "output_type": "stream",
     "text": [
      " * sqlite:///empty_db.db\n",
      "Done.\n"
     ]
    },
    {
     "data": {
      "text/html": [
       "<table>\n",
       "    <thead>\n",
       "        <tr>\n",
       "            <th>cid</th>\n",
       "            <th>name</th>\n",
       "            <th>type</th>\n",
       "            <th>notnull</th>\n",
       "            <th>dflt_value</th>\n",
       "            <th>pk</th>\n",
       "        </tr>\n",
       "    </thead>\n",
       "    <tbody>\n",
       "        <tr>\n",
       "            <td>0</td>\n",
       "            <td>author_id</td>\n",
       "            <td>INT</td>\n",
       "            <td>0</td>\n",
       "            <td>None</td>\n",
       "            <td>1</td>\n",
       "        </tr>\n",
       "        <tr>\n",
       "            <td>1</td>\n",
       "            <td>name</td>\n",
       "            <td>VARCHAR(255)</td>\n",
       "            <td>1</td>\n",
       "            <td>None</td>\n",
       "            <td>0</td>\n",
       "        </tr>\n",
       "    </tbody>\n",
       "</table>"
      ],
      "text/plain": [
       "[(0, 'author_id', 'INT', 0, None, 1), (1, 'name', 'VARCHAR(255)', 1, None, 0)]"
      ]
     },
     "execution_count": 3,
     "metadata": {},
     "output_type": "execute_result"
    }
   ],
   "source": [
    "%sql PRAGMA table_info(Authors)"
   ]
  },
  {
   "cell_type": "code",
   "execution_count": 4,
   "metadata": {},
   "outputs": [
    {
     "name": "stdout",
     "output_type": "stream",
     "text": [
      " * sqlite:///empty_db.db\n",
      "12 rows affected.\n"
     ]
    },
    {
     "data": {
      "text/plain": [
       "[]"
      ]
     },
     "execution_count": 4,
     "metadata": {},
     "output_type": "execute_result"
    }
   ],
   "source": [
    "%%sql\n",
    "INSERT\n",
    "INTO Authors(author_id, name)\n",
    "VALUES (1, 'Veronica Roth'),\n",
    "       (2, 'J. K. Rowling'),\n",
    "       (3, 'J. R. R. Tolkien'),\n",
    "       (4, 'Neil Gaiman'),\n",
    "       (5, 'Terry Pratchett'),\n",
    "       (6, 'Adam Grant'),\n",
    "       (7, 'Thomas Erikson'),\n",
    "       (8, 'Francois Baranger'),\n",
    "       (9, 'H.P. Lovecraft'),\n",
    "       (10, 'Adam Jones'),\n",
    "       (11, 'Adam Ashton'),\n",
    "       (12, 'Michelle Rial');\n"
   ]
  },
  {
   "cell_type": "code",
   "execution_count": 5,
   "metadata": {},
   "outputs": [
    {
     "name": "stdout",
     "output_type": "stream",
     "text": [
      " * sqlite:///empty_db.db\n",
      "Done.\n"
     ]
    },
    {
     "data": {
      "text/html": [
       "<table>\n",
       "    <thead>\n",
       "        <tr>\n",
       "            <th>author_id</th>\n",
       "            <th>name</th>\n",
       "        </tr>\n",
       "    </thead>\n",
       "    <tbody>\n",
       "        <tr>\n",
       "            <td>1</td>\n",
       "            <td>Veronica Roth</td>\n",
       "        </tr>\n",
       "        <tr>\n",
       "            <td>2</td>\n",
       "            <td>J. K. Rowling</td>\n",
       "        </tr>\n",
       "        <tr>\n",
       "            <td>3</td>\n",
       "            <td>J. R. R. Tolkien</td>\n",
       "        </tr>\n",
       "        <tr>\n",
       "            <td>4</td>\n",
       "            <td>Neil Gaiman</td>\n",
       "        </tr>\n",
       "        <tr>\n",
       "            <td>5</td>\n",
       "            <td>Terry Pratchett</td>\n",
       "        </tr>\n",
       "        <tr>\n",
       "            <td>6</td>\n",
       "            <td>Adam Grant</td>\n",
       "        </tr>\n",
       "        <tr>\n",
       "            <td>7</td>\n",
       "            <td>Thomas Erikson</td>\n",
       "        </tr>\n",
       "        <tr>\n",
       "            <td>8</td>\n",
       "            <td>Francois Baranger</td>\n",
       "        </tr>\n",
       "        <tr>\n",
       "            <td>9</td>\n",
       "            <td>H.P. Lovecraft</td>\n",
       "        </tr>\n",
       "        <tr>\n",
       "            <td>10</td>\n",
       "            <td>Adam Jones</td>\n",
       "        </tr>\n",
       "        <tr>\n",
       "            <td>11</td>\n",
       "            <td>Adam Ashton</td>\n",
       "        </tr>\n",
       "        <tr>\n",
       "            <td>12</td>\n",
       "            <td>Michelle Rial</td>\n",
       "        </tr>\n",
       "    </tbody>\n",
       "</table>"
      ],
      "text/plain": [
       "[(1, 'Veronica Roth'),\n",
       " (2, 'J. K. Rowling'),\n",
       " (3, 'J. R. R. Tolkien'),\n",
       " (4, 'Neil Gaiman'),\n",
       " (5, 'Terry Pratchett'),\n",
       " (6, 'Adam Grant'),\n",
       " (7, 'Thomas Erikson'),\n",
       " (8, 'Francois Baranger'),\n",
       " (9, 'H.P. Lovecraft'),\n",
       " (10, 'Adam Jones'),\n",
       " (11, 'Adam Ashton'),\n",
       " (12, 'Michelle Rial')]"
      ]
     },
     "execution_count": 5,
     "metadata": {},
     "output_type": "execute_result"
    }
   ],
   "source": [
    "%sql SELECT * FROM Authors"
   ]
  },
  {
   "cell_type": "markdown",
   "metadata": {},
   "source": [
    "***"
   ]
  },
  {
   "cell_type": "markdown",
   "metadata": {},
   "source": [
    "#### Table: Books\n",
    "\n",
    "#### Description: This table stores barcodes, titles and publishers of books."
   ]
  },
  {
   "cell_type": "code",
   "execution_count": 6,
   "metadata": {},
   "outputs": [
    {
     "name": "stdout",
     "output_type": "stream",
     "text": [
      " * sqlite:///empty_db.db\n",
      "Done.\n"
     ]
    },
    {
     "data": {
      "text/plain": [
       "[]"
      ]
     },
     "execution_count": 6,
     "metadata": {},
     "output_type": "execute_result"
    }
   ],
   "source": [
    "%%sql\n",
    "CREATE TABLE Books\n",
    "(\n",
    "    book_id   INT PRIMARY KEY,\n",
    "    barcode   CHAR(13)     NOT NULL,\n",
    "    title     VARCHAR(255) NOT NULL,\n",
    "    publisher VARCHAR(255) NOT NULL\n",
    ");"
   ]
  },
  {
   "cell_type": "code",
   "execution_count": 7,
   "metadata": {
    "scrolled": true
   },
   "outputs": [
    {
     "name": "stdout",
     "output_type": "stream",
     "text": [
      " * sqlite:///empty_db.db\n",
      "Done.\n"
     ]
    },
    {
     "data": {
      "text/html": [
       "<table>\n",
       "    <thead>\n",
       "        <tr>\n",
       "            <th>cid</th>\n",
       "            <th>name</th>\n",
       "            <th>type</th>\n",
       "            <th>notnull</th>\n",
       "            <th>dflt_value</th>\n",
       "            <th>pk</th>\n",
       "        </tr>\n",
       "    </thead>\n",
       "    <tbody>\n",
       "        <tr>\n",
       "            <td>0</td>\n",
       "            <td>book_id</td>\n",
       "            <td>INT</td>\n",
       "            <td>0</td>\n",
       "            <td>None</td>\n",
       "            <td>1</td>\n",
       "        </tr>\n",
       "        <tr>\n",
       "            <td>1</td>\n",
       "            <td>barcode</td>\n",
       "            <td>CHAR(13)</td>\n",
       "            <td>1</td>\n",
       "            <td>None</td>\n",
       "            <td>0</td>\n",
       "        </tr>\n",
       "        <tr>\n",
       "            <td>2</td>\n",
       "            <td>title</td>\n",
       "            <td>VARCHAR(255)</td>\n",
       "            <td>1</td>\n",
       "            <td>None</td>\n",
       "            <td>0</td>\n",
       "        </tr>\n",
       "        <tr>\n",
       "            <td>3</td>\n",
       "            <td>publisher</td>\n",
       "            <td>VARCHAR(255)</td>\n",
       "            <td>1</td>\n",
       "            <td>None</td>\n",
       "            <td>0</td>\n",
       "        </tr>\n",
       "    </tbody>\n",
       "</table>"
      ],
      "text/plain": [
       "[(0, 'book_id', 'INT', 0, None, 1),\n",
       " (1, 'barcode', 'CHAR(13)', 1, None, 0),\n",
       " (2, 'title', 'VARCHAR(255)', 1, None, 0),\n",
       " (3, 'publisher', 'VARCHAR(255)', 1, None, 0)]"
      ]
     },
     "execution_count": 7,
     "metadata": {},
     "output_type": "execute_result"
    }
   ],
   "source": [
    "%sql PRAGMA table_info(Books)"
   ]
  },
  {
   "cell_type": "code",
   "execution_count": 8,
   "metadata": {},
   "outputs": [
    {
     "name": "stdout",
     "output_type": "stream",
     "text": [
      " * sqlite:///empty_db.db\n",
      "9 rows affected.\n"
     ]
    },
    {
     "data": {
      "text/plain": [
       "[]"
      ]
     },
     "execution_count": 8,
     "metadata": {},
     "output_type": "execute_result"
    }
   ],
   "source": [
    "%%sql\n",
    "INSERT\n",
    "INTO Books(book_id, barcode, publisher, title)\n",
    "VALUES (1,  '9780007538065', 'Katherine Tegen Books', 'Divergent'),\n",
    "       (2,  '9780060853983', 'Workman', 'Good Omens'),\n",
    "       (3,  '0020626716048', 'Vivendi Universal', 'The Fellowship of the Ring'),\n",
    "       (4,  '9875748930947', 'Bloomsbury', 'Harry Potter: Philosopher`s Stone'),\n",
    "       (5,  '9780753553893', 'Ebury Publishing', 'Think again'),\n",
    "       (6,  '9781785042188', 'Ebury Publishing', 'Surrounded by Idiots'),\n",
    "       (7,  '9781624650086', 'Design Studio Press', 'At the Mountain of Madness Vol.1'),\n",
    "       (8,  '9780645133806', 'What will you learn', 'The Sh*t They Never Taught You : What You Can Learn From Books'),\n",
    "       (9,  '9781452175867', 'Chronicle Books', 'Am I Overthinking This?');"
   ]
  },
  {
   "cell_type": "code",
   "execution_count": 9,
   "metadata": {},
   "outputs": [
    {
     "name": "stdout",
     "output_type": "stream",
     "text": [
      " * sqlite:///empty_db.db\n",
      "Done.\n"
     ]
    },
    {
     "data": {
      "text/html": [
       "<table>\n",
       "    <thead>\n",
       "        <tr>\n",
       "            <th>book_id</th>\n",
       "            <th>barcode</th>\n",
       "            <th>title</th>\n",
       "            <th>publisher</th>\n",
       "        </tr>\n",
       "    </thead>\n",
       "    <tbody>\n",
       "        <tr>\n",
       "            <td>1</td>\n",
       "            <td>9780007538065</td>\n",
       "            <td>Divergent</td>\n",
       "            <td>Katherine Tegen Books</td>\n",
       "        </tr>\n",
       "        <tr>\n",
       "            <td>2</td>\n",
       "            <td>9780060853983</td>\n",
       "            <td>Good Omens</td>\n",
       "            <td>Workman</td>\n",
       "        </tr>\n",
       "        <tr>\n",
       "            <td>3</td>\n",
       "            <td>0020626716048</td>\n",
       "            <td>The Fellowship of the Ring</td>\n",
       "            <td>Vivendi Universal</td>\n",
       "        </tr>\n",
       "        <tr>\n",
       "            <td>4</td>\n",
       "            <td>9875748930947</td>\n",
       "            <td>Harry Potter: Philosopher`s Stone</td>\n",
       "            <td>Bloomsbury</td>\n",
       "        </tr>\n",
       "        <tr>\n",
       "            <td>5</td>\n",
       "            <td>9780753553893</td>\n",
       "            <td>Think again</td>\n",
       "            <td>Ebury Publishing</td>\n",
       "        </tr>\n",
       "        <tr>\n",
       "            <td>6</td>\n",
       "            <td>9781785042188</td>\n",
       "            <td>Surrounded by Idiots</td>\n",
       "            <td>Ebury Publishing</td>\n",
       "        </tr>\n",
       "        <tr>\n",
       "            <td>7</td>\n",
       "            <td>9781624650086</td>\n",
       "            <td>At the Mountain of Madness Vol.1</td>\n",
       "            <td>Design Studio Press</td>\n",
       "        </tr>\n",
       "        <tr>\n",
       "            <td>8</td>\n",
       "            <td>9780645133806</td>\n",
       "            <td>The Sh*t They Never Taught You : What You Can Learn From Books</td>\n",
       "            <td>What will you learn</td>\n",
       "        </tr>\n",
       "        <tr>\n",
       "            <td>9</td>\n",
       "            <td>9781452175867</td>\n",
       "            <td>Am I Overthinking This?</td>\n",
       "            <td>Chronicle Books</td>\n",
       "        </tr>\n",
       "    </tbody>\n",
       "</table>"
      ],
      "text/plain": [
       "[(1, '9780007538065', 'Divergent', 'Katherine Tegen Books'),\n",
       " (2, '9780060853983', 'Good Omens', 'Workman'),\n",
       " (3, '0020626716048', 'The Fellowship of the Ring', 'Vivendi Universal'),\n",
       " (4, '9875748930947', 'Harry Potter: Philosopher`s Stone', 'Bloomsbury'),\n",
       " (5, '9780753553893', 'Think again', 'Ebury Publishing'),\n",
       " (6, '9781785042188', 'Surrounded by Idiots', 'Ebury Publishing'),\n",
       " (7, '9781624650086', 'At the Mountain of Madness Vol.1', 'Design Studio Press'),\n",
       " (8, '9780645133806', 'The Sh*t They Never Taught You : What You Can Learn From Books', 'What will you learn'),\n",
       " (9, '9781452175867', 'Am I Overthinking This?', 'Chronicle Books')]"
      ]
     },
     "execution_count": 9,
     "metadata": {},
     "output_type": "execute_result"
    }
   ],
   "source": [
    "%sql SELECT * FROM Books"
   ]
  },
  {
   "cell_type": "markdown",
   "metadata": {},
   "source": [
    "***"
   ]
  },
  {
   "cell_type": "markdown",
   "metadata": {},
   "source": [
    "#### Table: BookAuthors\n",
    "\n",
    "#### Description: This table represents a relationship between Books and Authors."
   ]
  },
  {
   "cell_type": "code",
   "execution_count": 10,
   "metadata": {},
   "outputs": [
    {
     "name": "stdout",
     "output_type": "stream",
     "text": [
      " * sqlite:///empty_db.db\n",
      "Done.\n"
     ]
    },
    {
     "data": {
      "text/plain": [
       "[]"
      ]
     },
     "execution_count": 10,
     "metadata": {},
     "output_type": "execute_result"
    }
   ],
   "source": [
    "%%sql\n",
    "CREATE TABLE BooksAuthors\n",
    "(\n",
    "    book_id   INT,\n",
    "    author_id INT,\n",
    "    FOREIGN KEY (book_id) REFERENCES Books (book_id),\n",
    "    FOREIGN KEY (author_id) REFERENCES Authors (author_id)\n",
    ");"
   ]
  },
  {
   "cell_type": "code",
   "execution_count": 11,
   "metadata": {
    "scrolled": true
   },
   "outputs": [
    {
     "name": "stdout",
     "output_type": "stream",
     "text": [
      " * sqlite:///empty_db.db\n",
      "Done.\n"
     ]
    },
    {
     "data": {
      "text/html": [
       "<table>\n",
       "    <thead>\n",
       "        <tr>\n",
       "            <th>cid</th>\n",
       "            <th>name</th>\n",
       "            <th>type</th>\n",
       "            <th>notnull</th>\n",
       "            <th>dflt_value</th>\n",
       "            <th>pk</th>\n",
       "        </tr>\n",
       "    </thead>\n",
       "    <tbody>\n",
       "        <tr>\n",
       "            <td>0</td>\n",
       "            <td>book_id</td>\n",
       "            <td>INT</td>\n",
       "            <td>0</td>\n",
       "            <td>None</td>\n",
       "            <td>0</td>\n",
       "        </tr>\n",
       "        <tr>\n",
       "            <td>1</td>\n",
       "            <td>author_id</td>\n",
       "            <td>INT</td>\n",
       "            <td>0</td>\n",
       "            <td>None</td>\n",
       "            <td>0</td>\n",
       "        </tr>\n",
       "    </tbody>\n",
       "</table>"
      ],
      "text/plain": [
       "[(0, 'book_id', 'INT', 0, None, 0), (1, 'author_id', 'INT', 0, None, 0)]"
      ]
     },
     "execution_count": 11,
     "metadata": {},
     "output_type": "execute_result"
    }
   ],
   "source": [
    "%sql PRAGMA table_info(BooksAuthors)"
   ]
  },
  {
   "cell_type": "code",
   "execution_count": 12,
   "metadata": {},
   "outputs": [
    {
     "name": "stdout",
     "output_type": "stream",
     "text": [
      " * sqlite:///empty_db.db\n",
      "12 rows affected.\n"
     ]
    },
    {
     "data": {
      "text/plain": [
       "[]"
      ]
     },
     "execution_count": 12,
     "metadata": {},
     "output_type": "execute_result"
    }
   ],
   "source": [
    "%%sql\n",
    "INSERT\n",
    "INTO BooksAuthors(book_id, author_id)\n",
    "VALUES (1, 1),\n",
    "       (2, 4),\n",
    "       (2, 5),\n",
    "       (3, 3),\n",
    "       (4, 2),\n",
    "       (5, 6),\n",
    "       (6, 7),\n",
    "       (7, 8),\n",
    "       (7, 9),\n",
    "       (8, 10),\n",
    "       (8, 11),\n",
    "       (9, 12);"
   ]
  },
  {
   "cell_type": "code",
   "execution_count": 13,
   "metadata": {},
   "outputs": [
    {
     "name": "stdout",
     "output_type": "stream",
     "text": [
      " * sqlite:///empty_db.db\n",
      "Done.\n"
     ]
    },
    {
     "data": {
      "text/html": [
       "<table>\n",
       "    <thead>\n",
       "        <tr>\n",
       "            <th>book_id</th>\n",
       "            <th>author_id</th>\n",
       "        </tr>\n",
       "    </thead>\n",
       "    <tbody>\n",
       "        <tr>\n",
       "            <td>1</td>\n",
       "            <td>1</td>\n",
       "        </tr>\n",
       "        <tr>\n",
       "            <td>2</td>\n",
       "            <td>4</td>\n",
       "        </tr>\n",
       "        <tr>\n",
       "            <td>2</td>\n",
       "            <td>5</td>\n",
       "        </tr>\n",
       "        <tr>\n",
       "            <td>3</td>\n",
       "            <td>3</td>\n",
       "        </tr>\n",
       "        <tr>\n",
       "            <td>4</td>\n",
       "            <td>2</td>\n",
       "        </tr>\n",
       "        <tr>\n",
       "            <td>5</td>\n",
       "            <td>6</td>\n",
       "        </tr>\n",
       "        <tr>\n",
       "            <td>6</td>\n",
       "            <td>7</td>\n",
       "        </tr>\n",
       "        <tr>\n",
       "            <td>7</td>\n",
       "            <td>8</td>\n",
       "        </tr>\n",
       "        <tr>\n",
       "            <td>7</td>\n",
       "            <td>9</td>\n",
       "        </tr>\n",
       "        <tr>\n",
       "            <td>8</td>\n",
       "            <td>10</td>\n",
       "        </tr>\n",
       "        <tr>\n",
       "            <td>8</td>\n",
       "            <td>11</td>\n",
       "        </tr>\n",
       "        <tr>\n",
       "            <td>9</td>\n",
       "            <td>12</td>\n",
       "        </tr>\n",
       "    </tbody>\n",
       "</table>"
      ],
      "text/plain": [
       "[(1, 1),\n",
       " (2, 4),\n",
       " (2, 5),\n",
       " (3, 3),\n",
       " (4, 2),\n",
       " (5, 6),\n",
       " (6, 7),\n",
       " (7, 8),\n",
       " (7, 9),\n",
       " (8, 10),\n",
       " (8, 11),\n",
       " (9, 12)]"
      ]
     },
     "execution_count": 13,
     "metadata": {},
     "output_type": "execute_result"
    }
   ],
   "source": [
    "%sql SELECT * FROM BooksAuthors"
   ]
  },
  {
   "cell_type": "markdown",
   "metadata": {},
   "source": [
    "***"
   ]
  },
  {
   "cell_type": "markdown",
   "metadata": {},
   "source": [
    "#### Table: Branches\n",
    "\n",
    "#### Description: This table stores names and addresses of library branches."
   ]
  },
  {
   "cell_type": "code",
   "execution_count": 14,
   "metadata": {},
   "outputs": [
    {
     "name": "stdout",
     "output_type": "stream",
     "text": [
      " * sqlite:///empty_db.db\n",
      "Done.\n"
     ]
    },
    {
     "data": {
      "text/plain": [
       "[]"
      ]
     },
     "execution_count": 14,
     "metadata": {},
     "output_type": "execute_result"
    }
   ],
   "source": [
    "%%sql\n",
    "CREATE TABLE Branches\n",
    "(\n",
    "    branch_id INT PRIMARY KEY,\n",
    "    name      VARCHAR(255) NOT NULL,\n",
    "    address   VARCHAR(255) NOT NULL\n",
    ");"
   ]
  },
  {
   "cell_type": "code",
   "execution_count": 15,
   "metadata": {},
   "outputs": [
    {
     "name": "stdout",
     "output_type": "stream",
     "text": [
      " * sqlite:///empty_db.db\n",
      "Done.\n"
     ]
    },
    {
     "data": {
      "text/html": [
       "<table>\n",
       "    <thead>\n",
       "        <tr>\n",
       "            <th>cid</th>\n",
       "            <th>name</th>\n",
       "            <th>type</th>\n",
       "            <th>notnull</th>\n",
       "            <th>dflt_value</th>\n",
       "            <th>pk</th>\n",
       "        </tr>\n",
       "    </thead>\n",
       "    <tbody>\n",
       "        <tr>\n",
       "            <td>0</td>\n",
       "            <td>branch_id</td>\n",
       "            <td>INT</td>\n",
       "            <td>0</td>\n",
       "            <td>None</td>\n",
       "            <td>1</td>\n",
       "        </tr>\n",
       "        <tr>\n",
       "            <td>1</td>\n",
       "            <td>name</td>\n",
       "            <td>VARCHAR(255)</td>\n",
       "            <td>1</td>\n",
       "            <td>None</td>\n",
       "            <td>0</td>\n",
       "        </tr>\n",
       "        <tr>\n",
       "            <td>2</td>\n",
       "            <td>address</td>\n",
       "            <td>VARCHAR(255)</td>\n",
       "            <td>1</td>\n",
       "            <td>None</td>\n",
       "            <td>0</td>\n",
       "        </tr>\n",
       "    </tbody>\n",
       "</table>"
      ],
      "text/plain": [
       "[(0, 'branch_id', 'INT', 0, None, 1),\n",
       " (1, 'name', 'VARCHAR(255)', 1, None, 0),\n",
       " (2, 'address', 'VARCHAR(255)', 1, None, 0)]"
      ]
     },
     "execution_count": 15,
     "metadata": {},
     "output_type": "execute_result"
    }
   ],
   "source": [
    "%sql PRAGMA table_info(Branches)"
   ]
  },
  {
   "cell_type": "code",
   "execution_count": 16,
   "metadata": {},
   "outputs": [
    {
     "name": "stdout",
     "output_type": "stream",
     "text": [
      " * sqlite:///empty_db.db\n",
      "3 rows affected.\n"
     ]
    },
    {
     "data": {
      "text/plain": [
       "[]"
      ]
     },
     "execution_count": 16,
     "metadata": {},
     "output_type": "execute_result"
    }
   ],
   "source": [
    "%%sql\n",
    "INSERT\n",
    "INTO Branches(branch_id, name, address)\n",
    "VALUES (1, 'New York Library', '5th Willow Avenue'),\n",
    "       (2, 'New York Library', '2nd Something Avenue'),\n",
    "       (3, 'Library of Alexandria', 'Great Harbor (Portus Magnus)');"
   ]
  },
  {
   "cell_type": "code",
   "execution_count": 17,
   "metadata": {},
   "outputs": [
    {
     "name": "stdout",
     "output_type": "stream",
     "text": [
      " * sqlite:///empty_db.db\n",
      "Done.\n"
     ]
    },
    {
     "data": {
      "text/html": [
       "<table>\n",
       "    <thead>\n",
       "        <tr>\n",
       "            <th>branch_id</th>\n",
       "            <th>name</th>\n",
       "            <th>address</th>\n",
       "        </tr>\n",
       "    </thead>\n",
       "    <tbody>\n",
       "        <tr>\n",
       "            <td>1</td>\n",
       "            <td>New York Library</td>\n",
       "            <td>5th Willow Avenue</td>\n",
       "        </tr>\n",
       "        <tr>\n",
       "            <td>2</td>\n",
       "            <td>New York Library</td>\n",
       "            <td>2nd Something Avenue</td>\n",
       "        </tr>\n",
       "        <tr>\n",
       "            <td>3</td>\n",
       "            <td>Library of Alexandria</td>\n",
       "            <td>Great Harbor (Portus Magnus)</td>\n",
       "        </tr>\n",
       "    </tbody>\n",
       "</table>"
      ],
      "text/plain": [
       "[(1, 'New York Library', '5th Willow Avenue'),\n",
       " (2, 'New York Library', '2nd Something Avenue'),\n",
       " (3, 'Library of Alexandria', 'Great Harbor (Portus Magnus)')]"
      ]
     },
     "execution_count": 17,
     "metadata": {},
     "output_type": "execute_result"
    }
   ],
   "source": [
    "%sql SELECT * FROM Branches"
   ]
  },
  {
   "cell_type": "markdown",
   "metadata": {},
   "source": [
    "***"
   ]
  },
  {
   "cell_type": "markdown",
   "metadata": {},
   "source": [
    "#### Table: Loans\n",
    "\n",
    "#### Description: This table stores borrower, book and branch ids as well as the due dates of the loans."
   ]
  },
  {
   "cell_type": "code",
   "execution_count": 18,
   "metadata": {},
   "outputs": [
    {
     "name": "stdout",
     "output_type": "stream",
     "text": [
      " * sqlite:///empty_db.db\n",
      "Done.\n"
     ]
    },
    {
     "data": {
      "text/plain": [
       "[]"
      ]
     },
     "execution_count": 18,
     "metadata": {},
     "output_type": "execute_result"
    }
   ],
   "source": [
    "%%sql\n",
    "CREATE TABLE Loans\n",
    "(\n",
    "    borrower_id INT,\n",
    "    book_id     INT,\n",
    "    branch_id   INT,\n",
    "    due_date    DATE,\n",
    "    UNIQUE (borrower_id, book_id),\n",
    "    FOREIGN KEY (borrower_id) REFERENCES Borrowers (borrower_id),\n",
    "    FOREIGN KEY (book_id) REFERENCES Books (book_id),\n",
    "    FOREIGN KEY (branch_id) REFERENCES Branches (branch_id)\n",
    ");"
   ]
  },
  {
   "cell_type": "code",
   "execution_count": 19,
   "metadata": {},
   "outputs": [
    {
     "name": "stdout",
     "output_type": "stream",
     "text": [
      " * sqlite:///empty_db.db\n",
      "Done.\n"
     ]
    },
    {
     "data": {
      "text/html": [
       "<table>\n",
       "    <thead>\n",
       "        <tr>\n",
       "            <th>cid</th>\n",
       "            <th>name</th>\n",
       "            <th>type</th>\n",
       "            <th>notnull</th>\n",
       "            <th>dflt_value</th>\n",
       "            <th>pk</th>\n",
       "        </tr>\n",
       "    </thead>\n",
       "    <tbody>\n",
       "        <tr>\n",
       "            <td>0</td>\n",
       "            <td>borrower_id</td>\n",
       "            <td>INT</td>\n",
       "            <td>0</td>\n",
       "            <td>None</td>\n",
       "            <td>0</td>\n",
       "        </tr>\n",
       "        <tr>\n",
       "            <td>1</td>\n",
       "            <td>book_id</td>\n",
       "            <td>INT</td>\n",
       "            <td>0</td>\n",
       "            <td>None</td>\n",
       "            <td>0</td>\n",
       "        </tr>\n",
       "        <tr>\n",
       "            <td>2</td>\n",
       "            <td>branch_id</td>\n",
       "            <td>INT</td>\n",
       "            <td>0</td>\n",
       "            <td>None</td>\n",
       "            <td>0</td>\n",
       "        </tr>\n",
       "        <tr>\n",
       "            <td>3</td>\n",
       "            <td>due_date</td>\n",
       "            <td>DATE</td>\n",
       "            <td>0</td>\n",
       "            <td>None</td>\n",
       "            <td>0</td>\n",
       "        </tr>\n",
       "    </tbody>\n",
       "</table>"
      ],
      "text/plain": [
       "[(0, 'borrower_id', 'INT', 0, None, 0),\n",
       " (1, 'book_id', 'INT', 0, None, 0),\n",
       " (2, 'branch_id', 'INT', 0, None, 0),\n",
       " (3, 'due_date', 'DATE', 0, None, 0)]"
      ]
     },
     "execution_count": 19,
     "metadata": {},
     "output_type": "execute_result"
    }
   ],
   "source": [
    "%sql PRAGMA table_info(Loans)"
   ]
  },
  {
   "cell_type": "code",
   "execution_count": 20,
   "metadata": {},
   "outputs": [
    {
     "name": "stdout",
     "output_type": "stream",
     "text": [
      " * sqlite:///empty_db.db\n",
      "10 rows affected.\n"
     ]
    },
    {
     "data": {
      "text/plain": [
       "[]"
      ]
     },
     "execution_count": 20,
     "metadata": {},
     "output_type": "execute_result"
    }
   ],
   "source": [
    "%%sql\n",
    "INSERT\n",
    "INTO Loans(borrower_id, book_id, branch_id, due_date)\n",
    "VALUES (1, 1, 1, '2021-12-23'),\n",
    "       (1, 4, 1, '2021-12-23'),\n",
    "       (2, 2, 2, '2021-12-19'),\n",
    "       (3, 2, 2, '2021-12-25'),\n",
    "       (5, 3, 2, '2021-12-29'),\n",
    "       (5, 4, 2, '2021-12-24'),\n",
    "       (6, 2, 2, '2021-12-21'),\n",
    "       (6, 1, 2, '2021-12-28'),\n",
    "       (7, 2, 2, '2021-12-18'),\n",
    "       (8, 2, 2, '2021-12-17');"
   ]
  },
  {
   "cell_type": "code",
   "execution_count": 21,
   "metadata": {},
   "outputs": [
    {
     "name": "stdout",
     "output_type": "stream",
     "text": [
      " * sqlite:///empty_db.db\n",
      "Done.\n"
     ]
    },
    {
     "data": {
      "text/html": [
       "<table>\n",
       "    <thead>\n",
       "        <tr>\n",
       "            <th>borrower_id</th>\n",
       "            <th>book_id</th>\n",
       "            <th>branch_id</th>\n",
       "            <th>due_date</th>\n",
       "        </tr>\n",
       "    </thead>\n",
       "    <tbody>\n",
       "        <tr>\n",
       "            <td>1</td>\n",
       "            <td>1</td>\n",
       "            <td>1</td>\n",
       "            <td>2021-12-23</td>\n",
       "        </tr>\n",
       "        <tr>\n",
       "            <td>1</td>\n",
       "            <td>4</td>\n",
       "            <td>1</td>\n",
       "            <td>2021-12-23</td>\n",
       "        </tr>\n",
       "        <tr>\n",
       "            <td>2</td>\n",
       "            <td>2</td>\n",
       "            <td>2</td>\n",
       "            <td>2021-12-19</td>\n",
       "        </tr>\n",
       "        <tr>\n",
       "            <td>3</td>\n",
       "            <td>2</td>\n",
       "            <td>2</td>\n",
       "            <td>2021-12-25</td>\n",
       "        </tr>\n",
       "        <tr>\n",
       "            <td>5</td>\n",
       "            <td>3</td>\n",
       "            <td>2</td>\n",
       "            <td>2021-12-29</td>\n",
       "        </tr>\n",
       "        <tr>\n",
       "            <td>5</td>\n",
       "            <td>4</td>\n",
       "            <td>2</td>\n",
       "            <td>2021-12-24</td>\n",
       "        </tr>\n",
       "        <tr>\n",
       "            <td>6</td>\n",
       "            <td>2</td>\n",
       "            <td>2</td>\n",
       "            <td>2021-12-21</td>\n",
       "        </tr>\n",
       "        <tr>\n",
       "            <td>6</td>\n",
       "            <td>1</td>\n",
       "            <td>2</td>\n",
       "            <td>2021-12-28</td>\n",
       "        </tr>\n",
       "        <tr>\n",
       "            <td>7</td>\n",
       "            <td>2</td>\n",
       "            <td>2</td>\n",
       "            <td>2021-12-18</td>\n",
       "        </tr>\n",
       "        <tr>\n",
       "            <td>8</td>\n",
       "            <td>2</td>\n",
       "            <td>2</td>\n",
       "            <td>2021-12-17</td>\n",
       "        </tr>\n",
       "    </tbody>\n",
       "</table>"
      ],
      "text/plain": [
       "[(1, 1, 1, '2021-12-23'),\n",
       " (1, 4, 1, '2021-12-23'),\n",
       " (2, 2, 2, '2021-12-19'),\n",
       " (3, 2, 2, '2021-12-25'),\n",
       " (5, 3, 2, '2021-12-29'),\n",
       " (5, 4, 2, '2021-12-24'),\n",
       " (6, 2, 2, '2021-12-21'),\n",
       " (6, 1, 2, '2021-12-28'),\n",
       " (7, 2, 2, '2021-12-18'),\n",
       " (8, 2, 2, '2021-12-17')]"
      ]
     },
     "execution_count": 21,
     "metadata": {},
     "output_type": "execute_result"
    }
   ],
   "source": [
    "%sql SELECT * FROM Loans"
   ]
  },
  {
   "cell_type": "markdown",
   "metadata": {},
   "source": [
    "***"
   ]
  },
  {
   "cell_type": "markdown",
   "metadata": {},
   "source": [
    "#### Table: BranchesBooks\n",
    "\n",
    "#### Description: This table represents a relationship between Branches and Books. It also stores information about available and total amount of books for a branch."
   ]
  },
  {
   "cell_type": "code",
   "execution_count": 22,
   "metadata": {},
   "outputs": [
    {
     "name": "stdout",
     "output_type": "stream",
     "text": [
      " * sqlite:///empty_db.db\n",
      "Done.\n"
     ]
    },
    {
     "data": {
      "text/plain": [
       "[]"
      ]
     },
     "execution_count": 22,
     "metadata": {},
     "output_type": "execute_result"
    }
   ],
   "source": [
    "%%sql\n",
    "CREATE TABLE BranchesBooks\n",
    "(\n",
    "    branch_id INT,\n",
    "    book_id   INT,\n",
    "    available INT NOT NULL, -- Available to loan out in the library\n",
    "    total     INT NOT NULL, -- Total books in the library\n",
    "    CHECK (available <= total),\n",
    "    CHECK (total >= 0),\n",
    "    FOREIGN KEY (branch_id) REFERENCES Branches (branch_id),\n",
    "    FOREIGN KEY (book_id) REFERENCES Books (book_id)\n",
    ");"
   ]
  },
  {
   "cell_type": "code",
   "execution_count": 23,
   "metadata": {
    "scrolled": true
   },
   "outputs": [
    {
     "name": "stdout",
     "output_type": "stream",
     "text": [
      " * sqlite:///empty_db.db\n",
      "Done.\n"
     ]
    },
    {
     "data": {
      "text/html": [
       "<table>\n",
       "    <thead>\n",
       "        <tr>\n",
       "            <th>cid</th>\n",
       "            <th>name</th>\n",
       "            <th>type</th>\n",
       "            <th>notnull</th>\n",
       "            <th>dflt_value</th>\n",
       "            <th>pk</th>\n",
       "        </tr>\n",
       "    </thead>\n",
       "    <tbody>\n",
       "        <tr>\n",
       "            <td>0</td>\n",
       "            <td>branch_id</td>\n",
       "            <td>INT</td>\n",
       "            <td>0</td>\n",
       "            <td>None</td>\n",
       "            <td>0</td>\n",
       "        </tr>\n",
       "        <tr>\n",
       "            <td>1</td>\n",
       "            <td>book_id</td>\n",
       "            <td>INT</td>\n",
       "            <td>0</td>\n",
       "            <td>None</td>\n",
       "            <td>0</td>\n",
       "        </tr>\n",
       "        <tr>\n",
       "            <td>2</td>\n",
       "            <td>available</td>\n",
       "            <td>INT</td>\n",
       "            <td>1</td>\n",
       "            <td>None</td>\n",
       "            <td>0</td>\n",
       "        </tr>\n",
       "        <tr>\n",
       "            <td>3</td>\n",
       "            <td>total</td>\n",
       "            <td>INT</td>\n",
       "            <td>1</td>\n",
       "            <td>None</td>\n",
       "            <td>0</td>\n",
       "        </tr>\n",
       "    </tbody>\n",
       "</table>"
      ],
      "text/plain": [
       "[(0, 'branch_id', 'INT', 0, None, 0),\n",
       " (1, 'book_id', 'INT', 0, None, 0),\n",
       " (2, 'available', 'INT', 1, None, 0),\n",
       " (3, 'total', 'INT', 1, None, 0)]"
      ]
     },
     "execution_count": 23,
     "metadata": {},
     "output_type": "execute_result"
    }
   ],
   "source": [
    "%sql PRAGMA table_info(BranchesBooks)"
   ]
  },
  {
   "cell_type": "code",
   "execution_count": 24,
   "metadata": {},
   "outputs": [
    {
     "name": "stdout",
     "output_type": "stream",
     "text": [
      " * sqlite:///empty_db.db\n",
      "27 rows affected.\n"
     ]
    },
    {
     "data": {
      "text/plain": [
       "[]"
      ]
     },
     "execution_count": 24,
     "metadata": {},
     "output_type": "execute_result"
    }
   ],
   "source": [
    "%%sql\n",
    "INSERT\n",
    "INTO BranchesBooks(branch_id, book_id, available, total)\n",
    "VALUES (1, 1, 4, 4),\n",
    "       (1, 2, 4, 4),\n",
    "       (1, 3, 1, 1),\n",
    "       (1, 4, 2, 2),\n",
    "       (1, 5, 4, 4),\n",
    "       (1, 6, 4, 4),\n",
    "       (1, 7, 4, 4),\n",
    "       (1, 8, 4, 4),\n",
    "       (1, 9, 4, 4),\n",
    "       (2, 1, 2, 2),\n",
    "       (2, 2, 4, 4),\n",
    "       (2, 3, 3, 3),\n",
    "       (2, 4, 1, 1),\n",
    "       (2, 5, 2, 2),\n",
    "       (2, 6, 2, 2),\n",
    "       (2, 7, 2, 2),\n",
    "       (2, 8, 2, 2),\n",
    "       (2, 9, 2, 2),\n",
    "       (3, 1, 5, 5),\n",
    "       (3, 2, 3, 3),\n",
    "       (3, 3, 4, 4),\n",
    "       (3, 4, 2, 2),\n",
    "       (3, 5, 4, 4),\n",
    "       (3, 6, 4, 4),\n",
    "       (3, 7, 4, 4),\n",
    "       (3, 8, 4, 4),\n",
    "       (3, 9, 4, 4);"
   ]
  },
  {
   "cell_type": "code",
   "execution_count": 25,
   "metadata": {},
   "outputs": [
    {
     "name": "stdout",
     "output_type": "stream",
     "text": [
      " * sqlite:///empty_db.db\n",
      "Done.\n"
     ]
    },
    {
     "data": {
      "text/html": [
       "<table>\n",
       "    <thead>\n",
       "        <tr>\n",
       "            <th>branch_id</th>\n",
       "            <th>book_id</th>\n",
       "            <th>available</th>\n",
       "            <th>total</th>\n",
       "        </tr>\n",
       "    </thead>\n",
       "    <tbody>\n",
       "        <tr>\n",
       "            <td>1</td>\n",
       "            <td>1</td>\n",
       "            <td>4</td>\n",
       "            <td>4</td>\n",
       "        </tr>\n",
       "        <tr>\n",
       "            <td>1</td>\n",
       "            <td>2</td>\n",
       "            <td>4</td>\n",
       "            <td>4</td>\n",
       "        </tr>\n",
       "        <tr>\n",
       "            <td>1</td>\n",
       "            <td>3</td>\n",
       "            <td>1</td>\n",
       "            <td>1</td>\n",
       "        </tr>\n",
       "        <tr>\n",
       "            <td>1</td>\n",
       "            <td>4</td>\n",
       "            <td>2</td>\n",
       "            <td>2</td>\n",
       "        </tr>\n",
       "        <tr>\n",
       "            <td>1</td>\n",
       "            <td>5</td>\n",
       "            <td>4</td>\n",
       "            <td>4</td>\n",
       "        </tr>\n",
       "        <tr>\n",
       "            <td>1</td>\n",
       "            <td>6</td>\n",
       "            <td>4</td>\n",
       "            <td>4</td>\n",
       "        </tr>\n",
       "        <tr>\n",
       "            <td>1</td>\n",
       "            <td>7</td>\n",
       "            <td>4</td>\n",
       "            <td>4</td>\n",
       "        </tr>\n",
       "        <tr>\n",
       "            <td>1</td>\n",
       "            <td>8</td>\n",
       "            <td>4</td>\n",
       "            <td>4</td>\n",
       "        </tr>\n",
       "        <tr>\n",
       "            <td>1</td>\n",
       "            <td>9</td>\n",
       "            <td>4</td>\n",
       "            <td>4</td>\n",
       "        </tr>\n",
       "        <tr>\n",
       "            <td>2</td>\n",
       "            <td>1</td>\n",
       "            <td>2</td>\n",
       "            <td>2</td>\n",
       "        </tr>\n",
       "        <tr>\n",
       "            <td>2</td>\n",
       "            <td>2</td>\n",
       "            <td>4</td>\n",
       "            <td>4</td>\n",
       "        </tr>\n",
       "        <tr>\n",
       "            <td>2</td>\n",
       "            <td>3</td>\n",
       "            <td>3</td>\n",
       "            <td>3</td>\n",
       "        </tr>\n",
       "        <tr>\n",
       "            <td>2</td>\n",
       "            <td>4</td>\n",
       "            <td>1</td>\n",
       "            <td>1</td>\n",
       "        </tr>\n",
       "        <tr>\n",
       "            <td>2</td>\n",
       "            <td>5</td>\n",
       "            <td>2</td>\n",
       "            <td>2</td>\n",
       "        </tr>\n",
       "        <tr>\n",
       "            <td>2</td>\n",
       "            <td>6</td>\n",
       "            <td>2</td>\n",
       "            <td>2</td>\n",
       "        </tr>\n",
       "        <tr>\n",
       "            <td>2</td>\n",
       "            <td>7</td>\n",
       "            <td>2</td>\n",
       "            <td>2</td>\n",
       "        </tr>\n",
       "        <tr>\n",
       "            <td>2</td>\n",
       "            <td>8</td>\n",
       "            <td>2</td>\n",
       "            <td>2</td>\n",
       "        </tr>\n",
       "        <tr>\n",
       "            <td>2</td>\n",
       "            <td>9</td>\n",
       "            <td>2</td>\n",
       "            <td>2</td>\n",
       "        </tr>\n",
       "        <tr>\n",
       "            <td>3</td>\n",
       "            <td>1</td>\n",
       "            <td>5</td>\n",
       "            <td>5</td>\n",
       "        </tr>\n",
       "        <tr>\n",
       "            <td>3</td>\n",
       "            <td>2</td>\n",
       "            <td>3</td>\n",
       "            <td>3</td>\n",
       "        </tr>\n",
       "        <tr>\n",
       "            <td>3</td>\n",
       "            <td>3</td>\n",
       "            <td>4</td>\n",
       "            <td>4</td>\n",
       "        </tr>\n",
       "        <tr>\n",
       "            <td>3</td>\n",
       "            <td>4</td>\n",
       "            <td>2</td>\n",
       "            <td>2</td>\n",
       "        </tr>\n",
       "        <tr>\n",
       "            <td>3</td>\n",
       "            <td>5</td>\n",
       "            <td>4</td>\n",
       "            <td>4</td>\n",
       "        </tr>\n",
       "        <tr>\n",
       "            <td>3</td>\n",
       "            <td>6</td>\n",
       "            <td>4</td>\n",
       "            <td>4</td>\n",
       "        </tr>\n",
       "        <tr>\n",
       "            <td>3</td>\n",
       "            <td>7</td>\n",
       "            <td>4</td>\n",
       "            <td>4</td>\n",
       "        </tr>\n",
       "        <tr>\n",
       "            <td>3</td>\n",
       "            <td>8</td>\n",
       "            <td>4</td>\n",
       "            <td>4</td>\n",
       "        </tr>\n",
       "        <tr>\n",
       "            <td>3</td>\n",
       "            <td>9</td>\n",
       "            <td>4</td>\n",
       "            <td>4</td>\n",
       "        </tr>\n",
       "    </tbody>\n",
       "</table>"
      ],
      "text/plain": [
       "[(1, 1, 4, 4),\n",
       " (1, 2, 4, 4),\n",
       " (1, 3, 1, 1),\n",
       " (1, 4, 2, 2),\n",
       " (1, 5, 4, 4),\n",
       " (1, 6, 4, 4),\n",
       " (1, 7, 4, 4),\n",
       " (1, 8, 4, 4),\n",
       " (1, 9, 4, 4),\n",
       " (2, 1, 2, 2),\n",
       " (2, 2, 4, 4),\n",
       " (2, 3, 3, 3),\n",
       " (2, 4, 1, 1),\n",
       " (2, 5, 2, 2),\n",
       " (2, 6, 2, 2),\n",
       " (2, 7, 2, 2),\n",
       " (2, 8, 2, 2),\n",
       " (2, 9, 2, 2),\n",
       " (3, 1, 5, 5),\n",
       " (3, 2, 3, 3),\n",
       " (3, 3, 4, 4),\n",
       " (3, 4, 2, 2),\n",
       " (3, 5, 4, 4),\n",
       " (3, 6, 4, 4),\n",
       " (3, 7, 4, 4),\n",
       " (3, 8, 4, 4),\n",
       " (3, 9, 4, 4)]"
      ]
     },
     "execution_count": 25,
     "metadata": {},
     "output_type": "execute_result"
    }
   ],
   "source": [
    "%sql SELECT * FROM BranchesBooks"
   ]
  },
  {
   "cell_type": "markdown",
   "metadata": {},
   "source": [
    "***"
   ]
  },
  {
   "cell_type": "markdown",
   "metadata": {},
   "source": [
    "#### Table: Borrowers\n",
    "\n",
    "#### Description: This table stores names, addresses and contact infromation of borrowers."
   ]
  },
  {
   "cell_type": "code",
   "execution_count": 26,
   "metadata": {},
   "outputs": [
    {
     "name": "stdout",
     "output_type": "stream",
     "text": [
      " * sqlite:///empty_db.db\n",
      "Done.\n"
     ]
    },
    {
     "data": {
      "text/plain": [
       "[]"
      ]
     },
     "execution_count": 26,
     "metadata": {},
     "output_type": "execute_result"
    }
   ],
   "source": [
    "%%sql\n",
    "CREATE TABLE Borrowers\n",
    "(\n",
    "    borrower_id  INT PRIMARY KEY,\n",
    "    name         VARCHAR(255) NOT NULL,\n",
    "    address      VARCHAR(255) NOT NULL,\n",
    "    contact_info VARCHAR(255) NOT NULL\n",
    ");"
   ]
  },
  {
   "cell_type": "code",
   "execution_count": 27,
   "metadata": {
    "scrolled": true
   },
   "outputs": [
    {
     "name": "stdout",
     "output_type": "stream",
     "text": [
      " * sqlite:///empty_db.db\n",
      "Done.\n"
     ]
    },
    {
     "data": {
      "text/html": [
       "<table>\n",
       "    <thead>\n",
       "        <tr>\n",
       "            <th>cid</th>\n",
       "            <th>name</th>\n",
       "            <th>type</th>\n",
       "            <th>notnull</th>\n",
       "            <th>dflt_value</th>\n",
       "            <th>pk</th>\n",
       "        </tr>\n",
       "    </thead>\n",
       "    <tbody>\n",
       "        <tr>\n",
       "            <td>0</td>\n",
       "            <td>borrower_id</td>\n",
       "            <td>INT</td>\n",
       "            <td>0</td>\n",
       "            <td>None</td>\n",
       "            <td>1</td>\n",
       "        </tr>\n",
       "        <tr>\n",
       "            <td>1</td>\n",
       "            <td>name</td>\n",
       "            <td>VARCHAR(255)</td>\n",
       "            <td>1</td>\n",
       "            <td>None</td>\n",
       "            <td>0</td>\n",
       "        </tr>\n",
       "        <tr>\n",
       "            <td>2</td>\n",
       "            <td>address</td>\n",
       "            <td>VARCHAR(255)</td>\n",
       "            <td>1</td>\n",
       "            <td>None</td>\n",
       "            <td>0</td>\n",
       "        </tr>\n",
       "        <tr>\n",
       "            <td>3</td>\n",
       "            <td>contact_info</td>\n",
       "            <td>VARCHAR(255)</td>\n",
       "            <td>1</td>\n",
       "            <td>None</td>\n",
       "            <td>0</td>\n",
       "        </tr>\n",
       "    </tbody>\n",
       "</table>"
      ],
      "text/plain": [
       "[(0, 'borrower_id', 'INT', 0, None, 1),\n",
       " (1, 'name', 'VARCHAR(255)', 1, None, 0),\n",
       " (2, 'address', 'VARCHAR(255)', 1, None, 0),\n",
       " (3, 'contact_info', 'VARCHAR(255)', 1, None, 0)]"
      ]
     },
     "execution_count": 27,
     "metadata": {},
     "output_type": "execute_result"
    }
   ],
   "source": [
    "%sql PRAGMA table_info(Borrowers)"
   ]
  },
  {
   "cell_type": "code",
   "execution_count": 28,
   "metadata": {},
   "outputs": [
    {
     "name": "stdout",
     "output_type": "stream",
     "text": [
      " * sqlite:///empty_db.db\n",
      "10 rows affected.\n"
     ]
    },
    {
     "data": {
      "text/plain": [
       "[]"
      ]
     },
     "execution_count": 28,
     "metadata": {},
     "output_type": "execute_result"
    }
   ],
   "source": [
    "%%sql\n",
    "INSERT\n",
    "INTO Borrowers(borrower_id, name, address, contact_info)\n",
    "VALUES (1, 'Neil K Vaccaro', '2457 Goff Avenue, TX', '269-586-8202'),\n",
    "       (2, 'Sarah A Mosley', '4277 Stark Hollow Road, CA', 'SarahM6l@mail.net'),\n",
    "       (3, 'Richard L Kahn', '4049 Sherman Street, NY', '785-207-5492'),\n",
    "       (4, 'John Doe', '7643 Willow Avenue, OH', 'JD1961@mail.net'),\n",
    "       (5, 'Thomas T. Nelson', '1348 Coffman Alley, KY', 'ThomasTNelson@teleworm.us'),\n",
    "       (6, 'Ellyn Shipman', '2420 Hinkle Lake Road, Cambridge, MA', '617-505-8626'),\n",
    "       (7, 'Robert Flatt', '2290 Lilac Lane, Savannah, GA', 'RobertKFlatt@armyspy.com'),\n",
    "       (8, 'James Johnson', '1744 Hewes Avenue Baltimore, MD', 'JamesRJohnson@rhyta.com'),\n",
    "       (9, 'Sara Weddle', '1538 Spring Haven Trail, Paterson, NJ', '973-742-3323'),\n",
    "       (10,'Julie Mize', '4598 Clifford Street, Fremont, CA', 'JulieJMize@rhyta.com');"
   ]
  },
  {
   "cell_type": "code",
   "execution_count": 29,
   "metadata": {},
   "outputs": [
    {
     "name": "stdout",
     "output_type": "stream",
     "text": [
      " * sqlite:///empty_db.db\n",
      "Done.\n"
     ]
    },
    {
     "data": {
      "text/html": [
       "<table>\n",
       "    <thead>\n",
       "        <tr>\n",
       "            <th>borrower_id</th>\n",
       "            <th>name</th>\n",
       "            <th>address</th>\n",
       "            <th>contact_info</th>\n",
       "        </tr>\n",
       "    </thead>\n",
       "    <tbody>\n",
       "        <tr>\n",
       "            <td>1</td>\n",
       "            <td>Neil K Vaccaro</td>\n",
       "            <td>2457 Goff Avenue, TX</td>\n",
       "            <td>269-586-8202</td>\n",
       "        </tr>\n",
       "        <tr>\n",
       "            <td>2</td>\n",
       "            <td>Sarah A Mosley</td>\n",
       "            <td>4277 Stark Hollow Road, CA</td>\n",
       "            <td>SarahM6l@mail.net</td>\n",
       "        </tr>\n",
       "        <tr>\n",
       "            <td>3</td>\n",
       "            <td>Richard L Kahn</td>\n",
       "            <td>4049 Sherman Street, NY</td>\n",
       "            <td>785-207-5492</td>\n",
       "        </tr>\n",
       "        <tr>\n",
       "            <td>4</td>\n",
       "            <td>John Doe</td>\n",
       "            <td>7643 Willow Avenue, OH</td>\n",
       "            <td>JD1961@mail.net</td>\n",
       "        </tr>\n",
       "        <tr>\n",
       "            <td>5</td>\n",
       "            <td>Thomas T. Nelson</td>\n",
       "            <td>1348 Coffman Alley, KY</td>\n",
       "            <td>ThomasTNelson@teleworm.us</td>\n",
       "        </tr>\n",
       "        <tr>\n",
       "            <td>6</td>\n",
       "            <td>Ellyn Shipman</td>\n",
       "            <td>2420 Hinkle Lake Road, Cambridge, MA</td>\n",
       "            <td>617-505-8626</td>\n",
       "        </tr>\n",
       "        <tr>\n",
       "            <td>7</td>\n",
       "            <td>Robert Flatt</td>\n",
       "            <td>2290 Lilac Lane, Savannah, GA</td>\n",
       "            <td>RobertKFlatt@armyspy.com</td>\n",
       "        </tr>\n",
       "        <tr>\n",
       "            <td>8</td>\n",
       "            <td>James Johnson</td>\n",
       "            <td>1744 Hewes Avenue Baltimore, MD</td>\n",
       "            <td>JamesRJohnson@rhyta.com</td>\n",
       "        </tr>\n",
       "        <tr>\n",
       "            <td>9</td>\n",
       "            <td>Sara Weddle</td>\n",
       "            <td>1538 Spring Haven Trail, Paterson, NJ</td>\n",
       "            <td>973-742-3323</td>\n",
       "        </tr>\n",
       "        <tr>\n",
       "            <td>10</td>\n",
       "            <td>Julie Mize</td>\n",
       "            <td>4598 Clifford Street, Fremont, CA</td>\n",
       "            <td>JulieJMize@rhyta.com</td>\n",
       "        </tr>\n",
       "    </tbody>\n",
       "</table>"
      ],
      "text/plain": [
       "[(1, 'Neil K Vaccaro', '2457 Goff Avenue, TX', '269-586-8202'),\n",
       " (2, 'Sarah A Mosley', '4277 Stark Hollow Road, CA', 'SarahM6l@mail.net'),\n",
       " (3, 'Richard L Kahn', '4049 Sherman Street, NY', '785-207-5492'),\n",
       " (4, 'John Doe', '7643 Willow Avenue, OH', 'JD1961@mail.net'),\n",
       " (5, 'Thomas T. Nelson', '1348 Coffman Alley, KY', 'ThomasTNelson@teleworm.us'),\n",
       " (6, 'Ellyn Shipman', '2420 Hinkle Lake Road, Cambridge, MA', '617-505-8626'),\n",
       " (7, 'Robert Flatt', '2290 Lilac Lane, Savannah, GA', 'RobertKFlatt@armyspy.com'),\n",
       " (8, 'James Johnson', '1744 Hewes Avenue Baltimore, MD', 'JamesRJohnson@rhyta.com'),\n",
       " (9, 'Sara Weddle', '1538 Spring Haven Trail, Paterson, NJ', '973-742-3323'),\n",
       " (10, 'Julie Mize', '4598 Clifford Street, Fremont, CA', 'JulieJMize@rhyta.com')]"
      ]
     },
     "execution_count": 29,
     "metadata": {},
     "output_type": "execute_result"
    }
   ],
   "source": [
    "%sql SELECT * FROM Borrowers"
   ]
  },
  {
   "cell_type": "markdown",
   "metadata": {},
   "source": [
    "***"
   ]
  },
  {
   "cell_type": "markdown",
   "metadata": {},
   "source": [
    "#### Trigger: decrease_available\n",
    "#### Description: This trigger decreases the available books from BranchesBooks when a new Loan is created."
   ]
  },
  {
   "cell_type": "code",
   "execution_count": 30,
   "metadata": {},
   "outputs": [
    {
     "name": "stdout",
     "output_type": "stream",
     "text": [
      " * sqlite:///empty_db.db\n",
      "Done.\n"
     ]
    },
    {
     "data": {
      "text/plain": [
       "[]"
      ]
     },
     "execution_count": 30,
     "metadata": {},
     "output_type": "execute_result"
    }
   ],
   "source": [
    "%%sql\n",
    "CREATE TRIGGER decrease_available\n",
    "    AFTER INSERT\n",
    "    ON Loans\n",
    "BEGIN\n",
    "    UPDATE BranchesBooks\n",
    "    SET available = available - 1\n",
    "    WHERE (BranchesBooks.book_id, BranchesBooks.branch_id) = (NEW.book_id, NEW.branch_id);\n",
    "END;"
   ]
  },
  {
   "cell_type": "markdown",
   "metadata": {},
   "source": [
    "#### Trigger: increase_available\n",
    "#### Description: This trigger increases the available books from BranchesBooks when a Loan is deleted."
   ]
  },
  {
   "cell_type": "code",
   "execution_count": 31,
   "metadata": {},
   "outputs": [
    {
     "name": "stdout",
     "output_type": "stream",
     "text": [
      " * sqlite:///empty_db.db\n",
      "Done.\n"
     ]
    },
    {
     "data": {
      "text/plain": [
       "[]"
      ]
     },
     "execution_count": 31,
     "metadata": {},
     "output_type": "execute_result"
    }
   ],
   "source": [
    "%%sql\n",
    "CREATE TRIGGER increase_available\n",
    "    AFTER DELETE\n",
    "    ON Loans\n",
    "BEGIN\n",
    "    UPDATE BranchesBooks\n",
    "    SET available = available + 1\n",
    "    WHERE (BranchesBooks.book_id, BranchesBooks.branch_id) = (OLD.book_id, OLD.branch_id);\n",
    "END;"
   ]
  },
  {
   "cell_type": "markdown",
   "metadata": {},
   "source": [
    "***"
   ]
  }
 ],
 "metadata": {
  "kernelspec": {
   "display_name": "Python 3 (ipykernel)",
   "language": "python",
   "name": "python3"
  },
  "language_info": {
   "codemirror_mode": {
    "name": "ipython",
    "version": 3
   },
   "file_extension": ".py",
   "mimetype": "text/x-python",
   "name": "python",
   "nbconvert_exporter": "python",
   "pygments_lexer": "ipython3",
   "version": "3.9.7"
  }
 },
 "nbformat": 4,
 "nbformat_minor": 2
}
